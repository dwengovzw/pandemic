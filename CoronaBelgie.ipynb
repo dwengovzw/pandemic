{
 "cells": [
  {
   "cell_type": "markdown",
   "metadata": {},
   "source": [
    "# Corona in België"
   ]
  },
  {
   "cell_type": "markdown",
   "metadata": {},
   "source": [
    "<div class=\"alert alert-box alert-success\">\n",
    "In dit project bestudeer je de evolutie van het aantal coronagevallen in België. \n",
    "Je bekijkt de exponentiële groei en hoe de groeifactor evolueert doordat mensen zich moetn houden aan de <em>'social distance'</em>-regel.   \n",
    "</div>"
   ]
  },
  {
   "cell_type": "markdown",
   "metadata": {},
   "source": [
    "Cijfers over corona in België vind je bijvoorbeeld op:\n",
    "> https://data.europa.eu/euodp/en/data/dataset/covid-19-coronavirus-data/resource/260bbbde-2316-40eb-aec3-7cd7bfc2f590 \n",
    "> met het aantal gevallen en sterfgevallen\n",
    ">\n",
    "> https://www.datawrapper.de/_/dFAEh/ opgemaakt door Het Laatste Nieuws met cijfers van de FOD Gezondheid\n",
    "> met het aantal gehospitaliseerden, mensen op intensieve zorg en sterfgevallen; \n",
    "> https://www.hln.be/nieuws/binnenland/overzicht-34-nieuwe-overlijdens-door-coronavirus-1-859-mensen-in-ziekenhuis-381-op-intensieve-zorgen~ac43dd3a/?referer=https%3A%2F%2Fwww.google.com%2F"
   ]
  },
  {
   "cell_type": "markdown",
   "metadata": {},
   "source": [
    "### De nodige modules importeren"
   ]
  },
  {
   "cell_type": "code",
   "execution_count": null,
   "metadata": {},
   "outputs": [],
   "source": [
    "import pandas as pd\n",
    "\n",
    "import matplotlib.pyplot as plt\n",
    "import numpy as np"
   ]
  },
  {
   "cell_type": "markdown",
   "metadata": {},
   "source": [
    "## Aantal gevallen van eind december 2019 tot 29 maart 2020"
   ]
  },
  {
   "cell_type": "code",
   "execution_count": null,
   "metadata": {},
   "outputs": [],
   "source": [
    "corona = pd.read_csv(\".data/coronaBelgie.txt\")  "
   ]
  },
  {
   "cell_type": "code",
   "execution_count": null,
   "metadata": {
    "scrolled": true
   },
   "outputs": [],
   "source": [
    "# bekijk tabel\n",
    "corona"
   ]
  },
  {
   "cell_type": "code",
   "execution_count": null,
   "metadata": {},
   "outputs": [],
   "source": [
    "# bekijk deel tabel\n",
    "corona[0:40]"
   ]
  },
  {
   "cell_type": "code",
   "execution_count": null,
   "metadata": {},
   "outputs": [],
   "source": [
    "# bekijk deel tabel vanaf eerste geval\n",
    "corona[0:28]"
   ]
  },
  {
   "cell_type": "code",
   "execution_count": null,
   "metadata": {},
   "outputs": [],
   "source": [
    "# aantal gevallen uit tabel halen\n",
    "x2 = corona[\"cases\"]\n",
    "x2 = x2[0:28]\n",
    "x2 = np.array(x2)\n",
    "print(x2)"
   ]
  },
  {
   "cell_type": "code",
   "execution_count": null,
   "metadata": {
    "scrolled": false
   },
   "outputs": [],
   "source": [
    "# lijst maken voor dagen verloop corona\n",
    "periode = len(x2)\n",
    "x1 = np.arange(0, periode, 1)\n",
    "print(x1)"
   ]
  },
  {
   "cell_type": "code",
   "execution_count": null,
   "metadata": {},
   "outputs": [],
   "source": [
    "# tabel begint met laatste dag, ervoor zorgen dat eerste dag overeenkomt met het eerste geval\n",
    "x1 = 27 - x1\n",
    "print(x1)"
   ]
  },
  {
   "cell_type": "code",
   "execution_count": null,
   "metadata": {},
   "outputs": [],
   "source": [
    "x3 = corona [\"deaths\"]\n",
    "x3 = x3[0:28]\n",
    "x3 = np.array(x3)\n",
    "print(x3)"
   ]
  },
  {
   "cell_type": "code",
   "execution_count": null,
   "metadata": {
    "scrolled": true
   },
   "outputs": [],
   "source": [
    "# grafiek \n",
    "plt.figure(figsize=(10,5))\n",
    "\n",
    "plt.subplot(1,2,1)\n",
    "plt.xlim(0, 30)\n",
    "plt.ylim(0, 1500)\n",
    "plt.scatter(x1, x2, marker =\".\", color=\"blue\")\n",
    "plt.xlabel(\"dag sinds 31 december 2019\")\n",
    "plt.ylabel(\"aantal besmettingen\")\n",
    "\n",
    "plt.subplot(1,2,2)\n",
    "plt.xlim(0, 30)\n",
    "plt.ylim(0, 75)\n",
    "plt.scatter(x1, x3, marker =\".\", color=\"red\")\n",
    "plt.xlabel(\"dag sinds 31 december 2019\")\n",
    "plt.ylabel(\"aantal doden\")\n",
    "\n",
    "plt.show()"
   ]
  },
  {
   "cell_type": "markdown",
   "metadata": {},
   "source": [
    "Zowel het dagelijkse aantal gevallen als het dagelijkse aantal doden lijkt exponentieel te stijgen.<br>\n",
    "We kijken of er een exponentiële functie past bij de data van het aantal gevallen."
   ]
  },
  {
   "cell_type": "code",
   "execution_count": null,
   "metadata": {},
   "outputs": [],
   "source": [
    "# grafiek \n",
    "plt.figure(figsize=(20,10))\n",
    "\n",
    "plt.xlim(0, 30)\n",
    "plt.ylim(0, 2000)\n",
    "y0 = 6.4 * 1.235**x1   # vergelijking bepalen, regressie met exponentiële functie\n",
    "plt.scatter(x1, x2, marker =\".\", color=\"blue\")\n",
    "plt.plot(x1, y0, color=\"lightblue\")\n",
    "plt.xlabel(\"dag sinds 31 december 2019\")\n",
    "plt.ylabel(\"aantal besmettingen\")\n",
    "\n",
    "plt.show()"
   ]
  },
  {
   "cell_type": "markdown",
   "metadata": {},
   "source": [
    "Men zegt echter dat de groei vertraagt. Dat betekent dat we bijvoorbeeld met twee expontiële functies zouden kunnen werken, waarbij de tweede een kleinere groeifactor heeft. "
   ]
  },
  {
   "cell_type": "code",
   "execution_count": null,
   "metadata": {},
   "outputs": [],
   "source": [
    "# grafiek \n",
    "plt.figure(figsize=(20,10))\n",
    "\n",
    "plt.xlim(0, 30)\n",
    "plt.ylim(0, 2000)\n",
    "y1 = 4.9 * 1.26**x1         # van dag 0 t.e.m. dag 12\n",
    "y2 = 18.24 * 1.17**x1        # van dag 13 t.e.m. dag 27\n",
    "plt.scatter(x1, x2, marker =\".\", color=\"blue\")\n",
    "plt.plot(x1, y1, color=\"green\")\n",
    "plt.plot(x1, y2,  color=\"yellow\")\n",
    "plt.xlabel(\"dag sinds 31 december 2019\")\n",
    "plt.ylabel(\"aantal besmettingen\")\n",
    "\n",
    "\n",
    "plt.show()"
   ]
  },
  {
   "cell_type": "markdown",
   "metadata": {},
   "source": [
    "## Aantal mensen in het ziekenhuis sinds 15 maart 2020"
   ]
  },
  {
   "cell_type": "code",
   "execution_count": null,
   "metadata": {},
   "outputs": [],
   "source": [
    "ziekenhuis = pd.read_csv(\".data/data-dFAEh.csv\")   "
   ]
  },
  {
   "cell_type": "code",
   "execution_count": null,
   "metadata": {},
   "outputs": [],
   "source": [
    "ziekenhuis"
   ]
  },
  {
   "cell_type": "code",
   "execution_count": null,
   "metadata": {},
   "outputs": [],
   "source": [
    "xz2 = ziekenhuis[\"Doden\"]\n",
    "xz2 = np.array(xz2)\n",
    "print(xz2)\n",
    "aantaldagen = len(xz2)\n",
    "print(\"aantal dagen = \", aantaldagen)\n",
    "xz1 = np.arange(0, aantaldagen, 1)\n",
    "print(x1)\n",
    "xz3 = ziekenhuis[\"Actuele bezetting ziekenhuizen\"]\n",
    "xz4 = ziekenhuis[\"Waarvan op intensieve\"]\n",
    "xz3 = np.array(xz3)\n",
    "xz4 = np.array(xz4)\n",
    "print(xz3)\n",
    "print(xz4)"
   ]
  },
  {
   "cell_type": "code",
   "execution_count": null,
   "metadata": {},
   "outputs": [],
   "source": [
    "# grafiek mensen in ziekenhuis en op intensieve zorg\n",
    "plt.figure(figsize=(20,10))\n",
    "\n",
    "plt.subplot(1,2,1)\n",
    "plt.xlim(0, aantaldagen+10)\n",
    "plt.ylim(0, np.max(xz3)+3000)\n",
    "\n",
    "plt.scatter(xz1, xz3, marker =\".\", color=\"blue\")\n",
    "\n",
    "plt.xlabel(\"dag sinds 15 maart 2020\")\n",
    "plt.ylabel(\"aantal in ziekenhuis\")\n",
    "\n",
    "plt.subplot(1,2,2)\n",
    "plt.xlim(0, np.max(xz1)+10)\n",
    "plt.ylim(0, np.max(xz3)+3000)\n",
    "\n",
    "plt.scatter(xz1, xz4, marker =\".\", color=\"red\")\n",
    "\n",
    "plt.xlabel(\"dag sinds 15 maart 2020\")\n",
    "plt.ylabel(\"aantal op intensieve zorg\")\n",
    "\n",
    "plt.show()"
   ]
  },
  {
   "cell_type": "markdown",
   "metadata": {},
   "source": [
    "### Groei"
   ]
  },
  {
   "cell_type": "code",
   "execution_count": null,
   "metadata": {},
   "outputs": [],
   "source": [
    "groeifactor = np.zeros(aantaldagen-1)\n",
    "for i in range(0, aantaldagen-1):\n",
    "    groeifactor[i] = xz3[i+1] / xz3[i]\n",
    "print(groeifactor)"
   ]
  },
  {
   "cell_type": "code",
   "execution_count": null,
   "metadata": {},
   "outputs": [],
   "source": [
    "groeifactor2 = np.zeros(aantaldagen-1)\n",
    "for i in range(0, aantaldagen-1):\n",
    "    groeifactor2[i] = xz4[i+1] / xz4[i]\n",
    "print(groeifactor2)"
   ]
  },
  {
   "cell_type": "code",
   "execution_count": null,
   "metadata": {},
   "outputs": [],
   "source": [
    "# grafiek \n",
    "plt.figure(figsize=(20,10))\n",
    "\n",
    "plt.subplot(1,2,1)\n",
    "plt.xlim(0, aantaldagen+10)\n",
    "plt.ylim(0, np.max(xz3)+3000)\n",
    "yz0 = 236.63 * 1.25**xz1\n",
    "yz1 = 181 * 1.36**xz1          # van dag 0 t.e.m. dag 6\n",
    "yz2 = 423 * 1.18**xz1       # van dag 6 tot einde\n",
    "plt.scatter(xz1, xz3, marker =\".\", color=\"blue\")\n",
    "plt.plot(xz1, yz0, color=\"lightblue\")\n",
    "plt.plot(xz1, yz1, color=\"green\")     # eerste deel\n",
    "plt.plot(xz1, yz2, color=\"yellow\")    # tweede deel\n",
    "plt.xlabel(\"dag sinds 15 maart 2020\")\n",
    "plt.ylabel(\"aantal in ziekenhuis\")\n",
    "\n",
    "plt.subplot(1,2,2)\n",
    "plt.xlim(0, np.max(xz1)+10)\n",
    "plt.ylim(0, np.max(xz3)+3000)\n",
    "yz3 = 48.38 * 1.25**xz1\n",
    "plt.scatter(xz1, xz4, marker =\".\", color=\"red\")\n",
    "plt.plot(xz1, yz3, color=\"red\")\n",
    "plt.xlabel(\"dag sinds 15 maart 2020\")\n",
    "plt.ylabel(\"aantal op intensieve zorg\")\n",
    "\n",
    "plt.show()"
   ]
  },
  {
   "cell_type": "markdown",
   "metadata": {},
   "source": [
    "## Aantal doden sinds 15 maart 2020"
   ]
  },
  {
   "cell_type": "code",
   "execution_count": null,
   "metadata": {},
   "outputs": [],
   "source": [
    "xz5 = ziekenhuis[\"Doden\"]    # totaal aantal\n",
    "xz5 = np.array(xz5)\n",
    "print(xz5)"
   ]
  },
  {
   "cell_type": "code",
   "execution_count": null,
   "metadata": {},
   "outputs": [],
   "source": [
    "# evolutie aantal doden per dag\n",
    "xz6 = np.zeros(aantaldagen)     # NumPy array genereren ven juiste lengte\n",
    "print(xz6)\n",
    "# print(len(x6))\n",
    "\n",
    "# Numpy array vullen met juiste waarden\n",
    "xz6[0] = xz5[0]                   \n",
    "for i in range(1, aantaldagen):\n",
    "    xz6[i] = xz5[i] - xz5[i-1]\n",
    "    \n",
    "print(xz6)"
   ]
  },
  {
   "cell_type": "code",
   "execution_count": null,
   "metadata": {},
   "outputs": [],
   "source": [
    "# grafiek \n",
    "plt.figure(figsize=(10,10))\n",
    "\n",
    "plt.xlim(0, aantaldagen+20)\n",
    "plt.ylim(0, np.max(xz6)+100)\n",
    "\n",
    "plt.scatter(xz1, xz6, marker =\".\", color=\"blue\")\n",
    "\n",
    "plt.xlabel(\"dag sinds 15 maart 2020\")\n",
    "plt.ylabel(\"aantal doden per dag\")\n",
    "\n",
    "plt.show()"
   ]
  },
  {
   "cell_type": "markdown",
   "metadata": {},
   "source": [
    "### Groei"
   ]
  },
  {
   "cell_type": "markdown",
   "metadata": {},
   "source": [
    "De groei kan exponentieel zijn, maar misschien ook lineair. We bekijken beide scenario's;"
   ]
  },
  {
   "cell_type": "code",
   "execution_count": null,
   "metadata": {},
   "outputs": [],
   "source": [
    "groeifactordoden = np.zeros(aantaldagen-1)\n",
    "for i in range(0, aantaldagen-1):\n",
    "    groeifactordoden[i] = xz6[i+1] / xz6[i]\n",
    "print(groeifactordoden)"
   ]
  },
  {
   "cell_type": "code",
   "execution_count": null,
   "metadata": {},
   "outputs": [],
   "source": [
    "groeidodenlin = np.zeros(aantaldagen-1)\n",
    "for i in range(0, aantaldagen-1):\n",
    "    groeidodenlin[i] = xz6[i+1] - xz6[i]\n",
    "print(groeidodenlin)"
   ]
  },
  {
   "cell_type": "code",
   "execution_count": null,
   "metadata": {},
   "outputs": [],
   "source": [
    "# grafiek \n",
    "plt.figure(figsize=(10,10))\n",
    "\n",
    "plt.xlim(0, aantaldagen+20)\n",
    "plt.ylim(0, np.max(xz6)+100)\n",
    "yz4 = 2.38 * 1.3**xz1       # exponentiële regressie\n",
    "yz5 = 5.5 * xz1 - 9.6       # lineaire regressie\n",
    "plt.scatter(xz1, xz6, marker =\".\", color=\"blue\")\n",
    "plt.plot(xz1, yz4, color=\"red\")\n",
    "plt.plot(xz1, yz5, color=\"pink\")\n",
    "plt.xlabel(\"dag sinds 15 maart 2020\")\n",
    "plt.ylabel(\"aantal doden per dag\")\n",
    "\n",
    "plt.show()"
   ]
  },
  {
   "cell_type": "markdown",
   "metadata": {},
   "source": [
    "## Opdracht"
   ]
  },
  {
   "cell_type": "markdown",
   "metadata": {},
   "source": [
    "Download de nieuwste data van https://www.datawrapper.de/_/dFAEh/ en maak zelf aangepaste grafieken voor de evolutie in de ziekenhuizen."
   ]
  },
  {
   "cell_type": "code",
   "execution_count": null,
   "metadata": {},
   "outputs": [],
   "source": []
  },
  {
   "cell_type": "markdown",
   "metadata": {},
   "source": [
    "<img src=\".image/cclic.png\" alt=\"Banner\" align=\"left\" style=\"width:100px;\"/><br><br>\n",
    "Deze notebook van N. Gesquière voor Dwengo vzw is in licentie gegeven volgens een <a href=\"http://creativecommons.org/licenses/by-nc-sa/4.0/\">Creative Commons Naamsvermelding-NietCommercieel-GelijkDelen 4.0 Internationaal-licentie</a>. "
   ]
  },
  {
   "cell_type": "markdown",
   "metadata": {},
   "source": [
    "![Dwengo vzw](.image/logodwengo.png)"
   ]
  }
 ],
 "metadata": {
  "kernelspec": {
   "display_name": "Python 3",
   "language": "python",
   "name": "python3"
  },
  "language_info": {
   "codemirror_mode": {
    "name": "ipython",
    "version": 3
   },
   "file_extension": ".py",
   "mimetype": "text/x-python",
   "name": "python",
   "nbconvert_exporter": "python",
   "pygments_lexer": "ipython3",
   "version": "3.7.4"
  }
 },
 "nbformat": 4,
 "nbformat_minor": 2
}
