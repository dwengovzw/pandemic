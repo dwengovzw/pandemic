{
 "cells": [
  {
   "cell_type": "markdown",
   "metadata": {},
   "source": [
    "# COVID-19 in België"
   ]
  },
  {
   "cell_type": "markdown",
   "metadata": {},
   "source": [
    "<div class=\"alert alert-box alert-success\">\n",
    "In dit project bestudeer je de evolutie van het aantal coronagevallen in België. \n",
    "Je bekijkt de exponentiële groei en hoe de groeifactor evolueert doordat mensen zich moeten houden aan de <em>'social distance'</em>-regel.   \n",
    "</div>"
   ]
  },
  {
   "cell_type": "markdown",
   "metadata": {},
   "source": [
    "Cijfers over corona in België vind je bijvoorbeeld op:\n",
    "> https://data.europa.eu/euodp/en/data/dataset/covid-19-coronavirus-data/resource/260bbbde-2316-40eb-aec3-7cd7bfc2f590 \n",
    "> met het aantal gevallen en sterfgevallen;\n",
    ">\n",
    "> https://www.datawrapper.de/_/dFAEh/ opgemaakt door Het Laatste Nieuws met cijfers van de FOD Gezondheid\n",
    "> met het aantal gehospitaliseerden, mensen op intensieve zorg en sterfgevallen; \n",
    "> https://www.hln.be/nieuws/binnenland/overzicht-34-nieuwe-overlijdens-door-coronavirus-1-859-mensen-in-ziekenhuis-381-op-intensieve-zorgen~ac43dd3a/?referer=https%3A%2F%2Fwww.google.com%2F"
   ]
  },
  {
   "cell_type": "markdown",
   "metadata": {},
   "source": [
    "### De nodige modules importeren"
   ]
  },
  {
   "cell_type": "code",
   "execution_count": null,
   "metadata": {},
   "outputs": [],
   "source": [
    "import pandas as pd\n",
    "\n",
    "import matplotlib.pyplot as plt\n",
    "import numpy as np\n",
    "\n",
    "from scipy.optimize import curve_fit"
   ]
  },
  {
   "cell_type": "markdown",
   "metadata": {},
   "source": [
    "### De nodige functies definiëren"
   ]
  },
  {
   "cell_type": "markdown",
   "metadata": {},
   "source": [
    "We zullen exponentiële functies nodig hebben en exponentiële regressie.<br>\n",
    "We definiëren de nodige functies. "
   ]
  },
  {
   "cell_type": "code",
   "execution_count": null,
   "metadata": {},
   "outputs": [],
   "source": [
    "def exp(x, a, b):\n",
    "    \"\"\"Voorschrift exponentiële functie.\"\"\"\n",
    "    return b * a**x \n",
    "\n",
    "def expreg(exp, x, y):\n",
    "    \"\"\"Best passende kromme bepalen.\"\"\"\n",
    "    popt, pcov = curve_fit(exp, x, y)         # curve_fit kijkt in def exp hoe die functie eruit ziet\n",
    "    # curve_fit geeft twee zaken terug\n",
    "    # enkel eerste nodig: a en b van gezochte exponentiële functie\n",
    "    a =  popt[0]\n",
    "    b =  popt[1]\n",
    "    print(\"y =\", b, \"*\", a, \"**x voor periode\", x)      # toon voorschrift\n",
    "    return exp(x, a, b)"
   ]
  },
  {
   "cell_type": "markdown",
   "metadata": {},
   "source": [
    "## Aantal gevallen van eind december 2019 tot 29 maart 2020"
   ]
  },
  {
   "cell_type": "code",
   "execution_count": null,
   "metadata": {},
   "outputs": [],
   "source": [
    "corona = pd.read_csv(\".data/coronaBelgie.txt\") "
   ]
  },
  {
   "cell_type": "code",
   "execution_count": null,
   "metadata": {
    "scrolled": true
   },
   "outputs": [],
   "source": [
    "# bekijk tabel\n",
    "corona"
   ]
  },
  {
   "cell_type": "code",
   "execution_count": null,
   "metadata": {},
   "outputs": [],
   "source": [
    "# bekijk deel tabel\n",
    "corona[0:40]"
   ]
  },
  {
   "cell_type": "code",
   "execution_count": null,
   "metadata": {},
   "outputs": [],
   "source": [
    "# bekijk deel tabel vanaf eerste geval (2 maart 2020)\n",
    "corona[0:28]"
   ]
  },
  {
   "cell_type": "code",
   "execution_count": null,
   "metadata": {},
   "outputs": [],
   "source": [
    "# aantal gevallen uit tabel halen\n",
    "x2 = corona[\"cases\"]\n",
    "x2 = x2[0:28]\n",
    "x2 = np.array(x2)\n",
    "print(x2)"
   ]
  },
  {
   "cell_type": "code",
   "execution_count": null,
   "metadata": {
    "scrolled": false
   },
   "outputs": [],
   "source": [
    "# lijst maken voor dagen verloop corona\n",
    "periode = len(x2)\n",
    "x1 = np.arange(0, periode, 1)\n",
    "print(x1)"
   ]
  },
  {
   "cell_type": "code",
   "execution_count": null,
   "metadata": {},
   "outputs": [],
   "source": [
    "# tabel begint met laatste dag, ervoor zorgen dat eerste dag overeenkomt met het eerste geval\n",
    "x1 = 27 - x1\n",
    "print(x1)"
   ]
  },
  {
   "cell_type": "code",
   "execution_count": null,
   "metadata": {},
   "outputs": [],
   "source": [
    "x3 = corona [\"deaths\"]\n",
    "x3 = x3[0:28]\n",
    "x3 = np.array(x3)\n",
    "print(x3)"
   ]
  },
  {
   "cell_type": "code",
   "execution_count": null,
   "metadata": {
    "scrolled": true
   },
   "outputs": [],
   "source": [
    "# grafiek \n",
    "plt.figure(figsize=(10,5))\n",
    "\n",
    "plt.subplot(1,2,1)\n",
    "plt.xlim(0, 30)\n",
    "plt.ylim(0, 1500)\n",
    "plt.scatter(x1, x2, marker =\".\", color=\"blue\")\n",
    "plt.xlabel(\"dag sinds 2 maart 2020\")\n",
    "plt.ylabel(\"aantal besmettingen\")\n",
    "\n",
    "plt.subplot(1,2,2)\n",
    "plt.xlim(0, 30)\n",
    "plt.ylim(0, 75)\n",
    "plt.scatter(x1, x3, marker =\".\", color=\"red\")\n",
    "plt.xlabel(\"dag sinds 2 maart 2020\")\n",
    "plt.ylabel(\"aantal gestorven mensen\")\n",
    "\n",
    "plt.show()"
   ]
  },
  {
   "cell_type": "markdown",
   "metadata": {},
   "source": [
    "Zowel het dagelijkse aantal gevallen als het dagelijkse aantal doden lijkt exponentieel te stijgen.<br>\n",
    "We kijken of er een exponentiële functie past bij de data van het aantal gevallen."
   ]
  },
  {
   "cell_type": "markdown",
   "metadata": {},
   "source": [
    "### Exponentiële regressie"
   ]
  },
  {
   "cell_type": "markdown",
   "metadata": {},
   "source": [
    "Je hebt misschien al een best passende kromme gezocht met je grafische rekenmachine, bv. met een TI-84. Je gebruikt daar `ExpReg`.\n",
    "De kromme die je vindt met je rekentoestel, kan een beetje afwijken van die die je hier vindt. Dat is omdat je rekenmachine de vergelijking van de kromme op een iets andere manier berekent, omdat ze zo is geprogrammeerd."
   ]
  },
  {
   "cell_type": "code",
   "execution_count": null,
   "metadata": {},
   "outputs": [],
   "source": [
    "# grafiek \n",
    "plt.figure(figsize=(20,10))\n",
    "plt.xlim(0, 30)\n",
    "plt.ylim(0, 2000)\n",
    "\n",
    "y0 = expreg(exp, x1, x2)\n",
    "\n",
    "plt.scatter(x1, x2, marker =\".\", color=\"blue\")\n",
    "plt.plot(x1, y0, color=\"lightblue\")\n",
    "plt.xlabel(\"dag sinds 2 maart 2020\")\n",
    "plt.ylabel(\"aantal besmettingen\")\n",
    "\n",
    "plt.show()\n",
    "\n",
    "# yr = 6.4 * 1.235**x1   # ExpReg met TI-84"
   ]
  },
  {
   "cell_type": "markdown",
   "metadata": {},
   "source": [
    "Men zegt echter dat de groei vertraagt. <br>\n",
    "Dat betekent dat we specifiek voor het laatste deel van de periode op zoek gaan naar een passende exponentiële functie, en deze zou dan een kleinere groeifactor hebben. "
   ]
  },
  {
   "cell_type": "code",
   "execution_count": null,
   "metadata": {},
   "outputs": [],
   "source": [
    "# grafiek \n",
    "\n",
    "x11 = x1[0:15]   # laatste deel\n",
    "x12 = x1[14:]    # eerste deel\n",
    "x21 = x2[0:15]\n",
    "x22 = x2[14:]\n",
    "\n",
    "plt.figure(figsize=(20,10))\n",
    "plt.xlim(0, 30)\n",
    "plt.ylim(0, 2000)\n",
    "\n",
    "y1 = expreg(exp, x11, x21)    # laatste deel\n",
    "y2 = expreg(exp, x12, x22)    # eerste deel\n",
    "\n",
    "plt.scatter(x1, x2, marker =\".\", color=\"blue\")\n",
    "plt.plot(x11, y1, color=\"green\")\n",
    "plt.plot(x12, y2,  color=\"yellow\")\n",
    "plt.xlabel(\"dag sinds 2 maart 2020\")\n",
    "plt.ylabel(\"aantal besmettingen\")\n",
    "\n",
    "plt.show()\n",
    "\n",
    "# y1 = 4.9 * 1.26**x1          # ExpReg met TI-84 van dag 0 t.e.m. dag 12\n",
    "# y2 = 18.24 * 1.17**x1        # ExpReg met TI-84 van dag 13 t.e.m. dag 27"
   ]
  },
  {
   "cell_type": "markdown",
   "metadata": {},
   "source": [
    "## Aantal mensen in het ziekenhuis sinds 15 maart 2020"
   ]
  },
  {
   "cell_type": "code",
   "execution_count": null,
   "metadata": {},
   "outputs": [],
   "source": [
    "ziekenhuis = pd.read_csv(\".data/data-dFAEh.csv\")     "
   ]
  },
  {
   "cell_type": "code",
   "execution_count": null,
   "metadata": {},
   "outputs": [],
   "source": [
    "ziekenhuis"
   ]
  },
  {
   "cell_type": "code",
   "execution_count": null,
   "metadata": {},
   "outputs": [],
   "source": [
    "xz2 = ziekenhuis[\"Doden\"]\n",
    "xz2 = np.array(xz2)\n",
    "print(xz2)\n",
    "aantaldagen = len(xz2)\n",
    "print(\"aantal dagen = \", aantaldagen)\n",
    "xz1 = np.arange(0, aantaldagen, 1)\n",
    "print(x1)\n",
    "xz3 = ziekenhuis[\"Actuele bezetting ziekenhuizen\"]\n",
    "xz4 = ziekenhuis[\"Waarvan op intensieve\"]\n",
    "xz3 = np.array(xz3)\n",
    "xz4 = np.array(xz4)\n",
    "print(xz3)\n",
    "print(xz4)"
   ]
  },
  {
   "cell_type": "code",
   "execution_count": null,
   "metadata": {},
   "outputs": [],
   "source": [
    "# grafiek mensen in ziekenhuis en op intensieve zorg\n",
    "plt.figure(figsize=(20,10))\n",
    "\n",
    "plt.subplot(1,2,1)\n",
    "plt.xlim(0, aantaldagen+10)\n",
    "plt.ylim(0, np.max(xz3)+3000)\n",
    "\n",
    "plt.scatter(xz1, xz3, marker =\".\", color=\"blue\")\n",
    "\n",
    "plt.xlabel(\"dag sinds 15 maart 2020\")\n",
    "plt.ylabel(\"aantal in ziekenhuis\")\n",
    "\n",
    "plt.subplot(1,2,2)\n",
    "plt.xlim(0, np.max(xz1)+10)\n",
    "plt.ylim(0, np.max(xz3)+3000)\n",
    "\n",
    "plt.scatter(xz1, xz4, marker =\".\", color=\"purple\")\n",
    "\n",
    "plt.xlabel(\"dag sinds 15 maart 2020\")\n",
    "plt.ylabel(\"aantal op intensieve zorg\")\n",
    "\n",
    "plt.show()"
   ]
  },
  {
   "cell_type": "markdown",
   "metadata": {},
   "source": [
    "### Groei en exponentiële regressie"
   ]
  },
  {
   "cell_type": "code",
   "execution_count": null,
   "metadata": {},
   "outputs": [],
   "source": [
    "# toename aantal mensen in ziekenhuis\n",
    "groeifactor = np.zeros(aantaldagen-1)\n",
    "for i in range(0, aantaldagen-1):\n",
    "    groeifactor[i] = xz3[i+1] / xz3[i]\n",
    "print(groeifactor)"
   ]
  },
  {
   "cell_type": "code",
   "execution_count": null,
   "metadata": {},
   "outputs": [],
   "source": [
    "# toename aantal mensen op intensieve zorg\n",
    "groeifactor2 = np.zeros(aantaldagen-1)\n",
    "for i in range(0, aantaldagen-1):\n",
    "    groeifactor2[i] = xz4[i+1] / xz4[i]\n",
    "print(groeifactor2)"
   ]
  },
  {
   "cell_type": "markdown",
   "metadata": {},
   "source": [
    "De verhoudingen zijn vrij constant. Dat wijst voor beide aantallen op een exponentiële groei. "
   ]
  },
  {
   "cell_type": "code",
   "execution_count": null,
   "metadata": {},
   "outputs": [],
   "source": [
    "# grafiek \n",
    "xz11 = xz1[0:7]\n",
    "xz12 = xz1[6:]\n",
    "xz31 = xz3[0:7]\n",
    "xz32 = xz3[6:]\n",
    "\n",
    "plt.figure(figsize=(20,10))\n",
    "\n",
    "plt.subplot(1,2,1)\n",
    "plt.xlim(0, aantaldagen+10)\n",
    "plt.ylim(0, np.max(xz3)+3000)\n",
    "\n",
    "yz3 = expreg(exp, xz1, xz3)   \n",
    "yz31 = expreg(exp, xz11, xz31)\n",
    "yz32 = expreg(exp, xz12, xz32)\n",
    "\n",
    "plt.scatter(xz1, xz3, marker =\".\", color=\"blue\")\n",
    "plt.plot(xz1, yz3, color=\"lightblue\")\n",
    "plt.plot(xz11, yz31, color=\"green\")     # eerste deel\n",
    "plt.plot(xz12, yz32, color=\"yellow\")    # tweede deel\n",
    "\n",
    "plt.xlabel(\"dag sinds 15 maart 2020\")\n",
    "plt.ylabel(\"aantal in ziekenhuis\")\n",
    "\n",
    "plt.subplot(1,2,2)\n",
    "plt.xlim(0, np.max(xz1)+10)\n",
    "plt.ylim(0, np.max(xz4)+3000)\n",
    "\n",
    "yz4 = expreg(exp, xz1, xz4)\n",
    "plt.scatter(xz1, xz4, marker =\".\", color=\"purple\")\n",
    "plt.plot(xz1, yz4, color=\"purple\")\n",
    "\n",
    "plt.xlabel(\"dag sinds 15 maart 2020\")\n",
    "plt.ylabel(\"aantal op intensieve zorg\")\n",
    "\n",
    "plt.show()\n",
    "\n",
    "# yz3 = 236.63 * 1.25**xz1      # ExpReg met TI-84\n",
    "# yz31 = 181 * 1.36**xz1        # ExpReg met TI-84 van dag 0 t.e.m. dag 6\n",
    "# yz32 = 423 * 1.18**xz1        # ExpReg met TI-84 van dag 6 tot einde\n",
    "# yz4 = 48.38 * 1.25**xz1       # ExpReg met TI-84 "
   ]
  },
  {
   "cell_type": "markdown",
   "metadata": {},
   "source": [
    "## Aantal doden sinds 15 maart 2020"
   ]
  },
  {
   "cell_type": "code",
   "execution_count": null,
   "metadata": {},
   "outputs": [],
   "source": [
    "xz5 = ziekenhuis[\"Doden\"]    # totaal aantal\n",
    "xz5 = np.array(xz5)\n",
    "print(xz5)"
   ]
  },
  {
   "cell_type": "code",
   "execution_count": null,
   "metadata": {},
   "outputs": [],
   "source": [
    "# evolutie aantal gestorven mensen per dag\n",
    "xz6 = np.zeros(aantaldagen)     # NumPy array genereren van juiste lengte\n",
    "print(xz6)\n",
    "# print(len(x6))\n",
    "\n",
    "# Numpy array vullen met juiste waarden\n",
    "xz6[0] = xz5[0]                   \n",
    "for i in range(1, aantaldagen):\n",
    "    xz6[i] = xz5[i] - xz5[i-1]\n",
    "    \n",
    "print(xz6)"
   ]
  },
  {
   "cell_type": "code",
   "execution_count": null,
   "metadata": {},
   "outputs": [],
   "source": [
    "# grafiek \n",
    "plt.figure()\n",
    "\n",
    "plt.xlim(0, aantaldagen+5)\n",
    "plt.ylim(0, np.max(xz6)+100)\n",
    "\n",
    "plt.scatter(xz1, xz6, marker =\".\", color=\"red\")\n",
    "\n",
    "plt.xlabel(\"dag sinds 15 maart 2020\")\n",
    "plt.ylabel(\"aantal gestorven mensen per dag\")\n",
    "\n",
    "plt.show()"
   ]
  },
  {
   "cell_type": "markdown",
   "metadata": {},
   "source": [
    "### Groei en exponentiële regressie"
   ]
  },
  {
   "cell_type": "code",
   "execution_count": null,
   "metadata": {},
   "outputs": [],
   "source": [
    "# exponentieel\n",
    "groeifactordoden = np.zeros(aantaldagen-1)\n",
    "for i in range(0, aantaldagen-1):\n",
    "    groeifactordoden[i] = xz6[i+1] / xz6[i]\n",
    "print(groeifactordoden)"
   ]
  },
  {
   "cell_type": "code",
   "execution_count": null,
   "metadata": {},
   "outputs": [],
   "source": [
    "# grafiek \n",
    "plt.figure()\n",
    "\n",
    "plt.xlim(0, aantaldagen+5)\n",
    "plt.ylim(0, np.max(xz6)+100)\n",
    "\n",
    "yz6 = expreg(exp, xz1, xz6)\n",
    "\n",
    "plt.scatter(xz1, xz6, marker =\".\", color=\"red\")\n",
    "plt.plot(xz1, yz6, color=\"red\")\n",
    "\n",
    "plt.xlabel(\"dag sinds 15 maart 2020\")\n",
    "plt.ylabel(\"aantal doden per dag\")\n",
    "\n",
    "plt.show()\n",
    "\n",
    "# yz6 = 2.38 * 1.3**xz1          # exponentiële regressie"
   ]
  },
  {
   "cell_type": "markdown",
   "metadata": {},
   "source": [
    "## Opdracht"
   ]
  },
  {
   "cell_type": "markdown",
   "metadata": {},
   "source": [
    "-  Download de nieuwste data van https://www.datawrapper.de/_/dFAEh/ i.v.m. de mensen opgenomen in de ziekenhuizen. \n",
    "-  Vul de gebruikte Numpy arrays aan met de nieuwe data. \n",
    "-  Maak zelf aangepaste grafieken die de evolutie van het aantal mensen dat opgenomen is in de ziekenhuizen, weergeven. Doe dat door de code aan te passen."
   ]
  },
  {
   "cell_type": "code",
   "execution_count": null,
   "metadata": {},
   "outputs": [],
   "source": [
    "# Tip\n",
    "lijst1 = np.array([1,2,3])\n",
    "lijst2 = np.array([4,5,6,7,8])\n",
    "samengevoegdelijst = np.append(lijst1, lijst2)\n",
    "print(samengevoegdelijst)"
   ]
  },
  {
   "cell_type": "code",
   "execution_count": null,
   "metadata": {},
   "outputs": [],
   "source": []
  },
  {
   "cell_type": "markdown",
   "metadata": {},
   "source": [
    "<div class=\"alert alert-box alert-success\">\n",
    "Wil je meer weten over hoe besmettelijke ziektes zich verspreiden? <br>\n",
    "In het project <b>'Simuleer een epidemie'</b> op <a href=\"https://scholen.dwengo.org\">https://scholen.dwengo.org </a> kan je een epidemie simuleren doorheen een sociaal netwerk, en onderzoeken welke strategieën de ziekte het best onder de knoet kunnen houden.   \n",
    "</div>"
   ]
  },
  {
   "cell_type": "markdown",
   "metadata": {},
   "source": [
    "<img src=\".image/cclic.png\" alt=\"Banner\" align=\"left\" style=\"width:100px;\"/><br><br>\n",
    "Deze notebook van N. Gesquière voor Dwengo vzw is in licentie gegeven volgens een <a href=\"http://creativecommons.org/licenses/by-nc-sa/4.0/\">Creative Commons Naamsvermelding-NietCommercieel-GelijkDelen 4.0 Internationaal-licentie</a>. "
   ]
  },
  {
   "cell_type": "markdown",
   "metadata": {},
   "source": [
    "![Dwengo vzw](.image/logodwengo.png)"
   ]
  }
 ],
 "metadata": {
  "kernelspec": {
   "display_name": "Python 3",
   "language": "python",
   "name": "python3"
  },
  "language_info": {
   "codemirror_mode": {
    "name": "ipython",
    "version": 3
   },
   "file_extension": ".py",
   "mimetype": "text/x-python",
   "name": "python",
   "nbconvert_exporter": "python",
   "pygments_lexer": "ipython3",
   "version": "3.7.4"
  }
 },
 "nbformat": 4,
 "nbformat_minor": 2
}
